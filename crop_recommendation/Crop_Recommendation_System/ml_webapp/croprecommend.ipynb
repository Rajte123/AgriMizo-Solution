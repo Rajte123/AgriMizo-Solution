{
 "cells": [
  {
   "cell_type": "code",
   "execution_count": 1,
   "id": "f7bc72a4-93d2-4de9-9e4d-c94d24dace01",
   "metadata": {},
   "outputs": [
    {
     "name": "stdout",
     "output_type": "stream",
     "text": [
      "   Nitrogen\\n(mg/kg)  Phosphorus\\n(mg/kg)  Potassium\\n(mg/kg)  \\\n",
      "0                 58                   81                 162   \n",
      "1                 58                   81                 162   \n",
      "2                 38                   54                 108   \n",
      "3                 39                   54                 109   \n",
      "4                 38                   54                 108   \n",
      "\n",
      "   Soil Moisture\\n(in %)  Temperature\\n(in °C)  Humidity\\n(in %)  \\\n",
      "0                   51.0                  27.9              75.9   \n",
      "1                   51.0                  27.9              73.6   \n",
      "2                   54.8                  27.9              75.4   \n",
      "3                   55.6                  27.9              75.2   \n",
      "4                   54.7                  27.9              75.4   \n",
      "\n",
      "  Farming_Method Label  \n",
      "0            WRC  Rice  \n",
      "1            WRC  Rice  \n",
      "2           Jhum  Rice  \n",
      "3           Jhum  Rice  \n",
      "4           Jhum  Rice  \n"
     ]
    }
   ],
   "source": [
    "import pandas as pd\n",
    "\n",
    "# Load the dataset\n",
    "file_path = \"Rice_Maize_recommendation.xlsx\"  # Ensure the file is in the correct directory\n",
    "df = pd.read_excel(file_path)\n",
    "\n",
    "# Display the first few rows\n",
    "print(df.head())\n"
   ]
  },
  {
   "cell_type": "code",
   "execution_count": 2,
   "id": "55f17c31-ef25-48bb-b963-ede3599f2353",
   "metadata": {},
   "outputs": [
    {
     "name": "stdout",
     "output_type": "stream",
     "text": [
      "   Nitrogen (mg/kg)  Phosphorus (mg/kg)  Potassium (mg/kg)  \\\n",
      "0                58                  81                162   \n",
      "1                58                  81                162   \n",
      "2                38                  54                108   \n",
      "3                39                  54                109   \n",
      "4                38                  54                108   \n",
      "\n",
      "   Soil Moisture (in %)  Temperature (in °C)  Humidity (in %) Farming_Method  \\\n",
      "0                  51.0                 27.9             75.9            WRC   \n",
      "1                  51.0                 27.9             73.6            WRC   \n",
      "2                  54.8                 27.9             75.4           Jhum   \n",
      "3                  55.6                 27.9             75.2           Jhum   \n",
      "4                  54.7                 27.9             75.4           Jhum   \n",
      "\n",
      "  Label  \n",
      "0  Rice  \n",
      "1  Rice  \n",
      "2  Rice  \n",
      "3  Rice  \n",
      "4  Rice  \n"
     ]
    }
   ],
   "source": [
    "import pandas as pd\n",
    "\n",
    "# Load the dataset\n",
    "file_path = \"Rice_Maize_recommendation.xlsx\"  \n",
    "df = pd.read_excel(file_path)\n",
    "\n",
    "# Clean column names (remove \\n)\n",
    "df.columns = df.columns.str.replace(\"\\n\", \" \")\n",
    "\n",
    "# Display the cleaned column names\n",
    "print(df.head())\n"
   ]
  },
  {
   "cell_type": "code",
   "execution_count": 3,
   "id": "466d6e81-2c16-4d8f-a056-5c273ea6f45e",
   "metadata": {},
   "outputs": [
    {
     "name": "stdout",
     "output_type": "stream",
     "text": [
      "Nitrogen (mg/kg)        0\n",
      "Phosphorus (mg/kg)      0\n",
      "Potassium (mg/kg)       0\n",
      "Soil Moisture (in %)    0\n",
      "Temperature (in °C)     0\n",
      "Humidity (in %)         0\n",
      "Farming_Method          0\n",
      "Label                   0\n",
      "dtype: int64\n"
     ]
    }
   ],
   "source": [
    "# Check for missing values\n",
    "print(df.isnull().sum())\n"
   ]
  },
  {
   "cell_type": "code",
   "execution_count": 4,
   "id": "ca438722-545b-4538-96b2-241d4e69e709",
   "metadata": {},
   "outputs": [
    {
     "name": "stdout",
     "output_type": "stream",
     "text": [
      "0\n"
     ]
    }
   ],
   "source": [
    "# Check for duplicate rows\n",
    "print(df.duplicated().sum())\n"
   ]
  },
  {
   "cell_type": "code",
   "execution_count": 5,
   "id": "49f56ac8-04c7-46fd-8e12-383013676d4d",
   "metadata": {},
   "outputs": [
    {
     "name": "stdout",
     "output_type": "stream",
     "text": [
      "       Nitrogen (mg/kg)  Phosphorus (mg/kg)  Potassium (mg/kg)  \\\n",
      "count         88.000000           88.000000          88.000000   \n",
      "mean          51.386364           72.113636         141.340909   \n",
      "std           13.464668           18.568563          41.526584   \n",
      "min           10.000000           14.000000          17.000000   \n",
      "25%           38.750000           54.000000         108.000000   \n",
      "50%           58.000000           81.000000         162.000000   \n",
      "75%           59.000000           83.000000         166.000000   \n",
      "max           64.000000           89.000000         178.000000   \n",
      "\n",
      "       Soil Moisture (in %)  Temperature (in °C)  Humidity (in %)  \n",
      "count             88.000000            88.000000        88.000000  \n",
      "mean              48.955682            27.806818        76.443182  \n",
      "std               16.598157             0.274928         1.254948  \n",
      "min                4.000000            27.200000        73.200000  \n",
      "25%               49.025000            27.775000        75.700000  \n",
      "50%               51.300000            27.900000        76.550000  \n",
      "75%               55.500000            28.000000        77.400000  \n",
      "max              100.000000            28.100000        78.600000  \n"
     ]
    }
   ],
   "source": [
    "# Get summary statistics\n",
    "print(df.describe())\n"
   ]
  },
  {
   "cell_type": "code",
   "execution_count": 6,
   "id": "c25dd7c8-c99c-4065-aece-f3f24577126f",
   "metadata": {},
   "outputs": [
    {
     "name": "stdout",
     "output_type": "stream",
     "text": [
      "Label\n",
      "Rice     44\n",
      "Maize    44\n",
      "Name: count, dtype: int64\n"
     ]
    }
   ],
   "source": [
    "# Check class distribution\n",
    "print(df['Label'].value_counts())\n"
   ]
  },
  {
   "cell_type": "code",
   "execution_count": 7,
   "id": "8ad4edd6-8f46-46be-af23-06d4f29ff2b7",
   "metadata": {},
   "outputs": [
    {
     "name": "stdout",
     "output_type": "stream",
     "text": [
      "   Farming_Method Label\n",
      "0               2  Rice\n",
      "1               2  Rice\n",
      "2               0  Rice\n",
      "3               0  Rice\n",
      "4               0  Rice\n"
     ]
    }
   ],
   "source": [
    "# Encode categorical variable\n",
    "df['Farming_Method'] = df['Farming_Method'].astype('category').cat.codes\n",
    "\n",
    "# Verify encoding\n",
    "print(df[['Farming_Method', 'Label']].head())\n"
   ]
  },
  {
   "cell_type": "code",
   "execution_count": 8,
   "id": "fa61bf76-aadf-4b01-ba11-872245fe423e",
   "metadata": {},
   "outputs": [
    {
     "name": "stdout",
     "output_type": "stream",
     "text": [
      "   Farming_Method  Label\n",
      "0               2      0\n",
      "1               2      0\n",
      "2               0      0\n",
      "3               0      0\n",
      "4               0      0\n"
     ]
    }
   ],
   "source": [
    "# Encode the Label column\n",
    "df['Label'] = df['Label'].map({'Rice': 0, 'Maize': 1})\n",
    "\n",
    "# Verify encoding\n",
    "print(df[['Farming_Method', 'Label']].head())\n"
   ]
  },
  {
   "cell_type": "code",
   "execution_count": 9,
   "id": "e3e35246-c3f2-4195-9673-f6eb0cb0a9d0",
   "metadata": {},
   "outputs": [
    {
     "name": "stdout",
     "output_type": "stream",
     "text": [
      "Shape of X: (88, 7)\n",
      "Shape of y: (88,)\n"
     ]
    }
   ],
   "source": [
    "# Define features (X) and target variable (y)\n",
    "X = df.drop(columns=['Label'])\n",
    "y = df['Label']\n",
    "\n",
    "# Verify the shapes\n",
    "print(\"Shape of X:\", X.shape)\n",
    "print(\"Shape of y:\", y.shape)\n"
   ]
  },
  {
   "cell_type": "code",
   "execution_count": 10,
   "id": "9b84e98c-8fb5-41fd-850a-4e42e41ec7df",
   "metadata": {
    "scrolled": true
   },
   "outputs": [
    {
     "name": "stdout",
     "output_type": "stream",
     "text": [
      "Training set size: (70, 7) (70,)\n",
      "Testing set size: (18, 7) (18,)\n"
     ]
    }
   ],
   "source": [
    "from sklearn.model_selection import train_test_split\n",
    "\n",
    "# Split the data (80% training, 20% testing)\n",
    "X_train, X_test, y_train, y_test = train_test_split(X, y, test_size=0.2, random_state=42, stratify=y)\n",
    "\n",
    "# Verify the shapes of the training and testing sets\n",
    "print(\"Training set size:\", X_train.shape, y_train.shape)\n",
    "print(\"Testing set size:\", X_test.shape, y_test.shape)\n"
   ]
  },
  {
   "cell_type": "code",
   "execution_count": 11,
   "id": "6a0e0652-89bd-4d77-add3-e584f78622d4",
   "metadata": {},
   "outputs": [
    {
     "name": "stdout",
     "output_type": "stream",
     "text": [
      "Training Accuracy: 0.8571428571428571\n"
     ]
    }
   ],
   "source": [
    "from sklearn.ensemble import RandomForestClassifier\n",
    "\n",
    "# Initialize the model\n",
    "model = RandomForestClassifier(n_estimators=100, random_state=42)\n",
    "\n",
    "# Train the model\n",
    "model.fit(X_train, y_train)\n",
    "\n",
    "# Check model accuracy on training data\n",
    "train_accuracy = model.score(X_train, y_train)\n",
    "print(\"Training Accuracy:\", train_accuracy)\n"
   ]
  },
  {
   "cell_type": "code",
   "execution_count": 12,
   "id": "00bd5c3c-af78-4026-9b4f-930e04971725",
   "metadata": {},
   "outputs": [
    {
     "name": "stdout",
     "output_type": "stream",
     "text": [
      "Test Accuracy: 0.3888888888888889\n"
     ]
    }
   ],
   "source": [
    "# Check accuracy on the test data\n",
    "test_accuracy = model.score(X_test, y_test)\n",
    "print(\"Test Accuracy:\", test_accuracy)\n"
   ]
  },
  {
   "cell_type": "code",
   "execution_count": 14,
   "id": "227269d4-e878-4227-ad78-39356b712c12",
   "metadata": {},
   "outputs": [
    {
     "name": "stdout",
     "output_type": "stream",
     "text": [
      "Test Accuracy after tuning: 0.4444444444444444\n"
     ]
    }
   ],
   "source": [
    "from sklearn.ensemble import RandomForestClassifier\n",
    "\n",
    "# Reduce overfitting by limiting tree depth\n",
    "model = RandomForestClassifier(n_estimators=100, max_depth=5, random_state=42)\n",
    "\n",
    "# Train again\n",
    "model.fit(X_train, y_train)\n",
    "\n",
    "# Test accuracy\n",
    "test_accuracy = model.score(X_test, y_test)\n",
    "print(\"Test Accuracy after tuning:\", test_accuracy)\n"
   ]
  },
  {
   "cell_type": "code",
   "execution_count": 15,
   "id": "a64875f3-8ef2-48bb-b07c-3886d39218d6",
   "metadata": {},
   "outputs": [],
   "source": [
    "from sklearn.preprocessing import StandardScaler\n",
    "\n",
    "scaler = StandardScaler()\n",
    "X_train_scaled = scaler.fit_transform(X_train)\n",
    "X_test_scaled = scaler.transform(X_test)\n"
   ]
  },
  {
   "cell_type": "code",
   "execution_count": 16,
   "id": "2dfe9249-0faf-415a-911a-74ce8c07cb98",
   "metadata": {},
   "outputs": [
    {
     "name": "stdout",
     "output_type": "stream",
     "text": [
      "Test Accuracy after tuning: 0.5\n"
     ]
    }
   ],
   "source": [
    "from sklearn.model_selection import GridSearchCV\n",
    "\n",
    "param_grid = {\n",
    "    'n_estimators': [50, 100, 200],\n",
    "    'max_depth': [3, 5, 10, None],\n",
    "    'min_samples_split': [2, 5, 10],\n",
    "    'min_samples_leaf': [1, 2, 4]\n",
    "}\n",
    "\n",
    "grid_search = GridSearchCV(RandomForestClassifier(random_state=42), param_grid, cv=5, scoring='accuracy')\n",
    "grid_search.fit(X_train, y_train)\n",
    "\n",
    "best_model = grid_search.best_estimator_\n",
    "\n",
    "# Evaluate on test data\n",
    "test_accuracy = best_model.score(X_test, y_test)\n",
    "print(\"Test Accuracy after tuning:\", test_accuracy)\n"
   ]
  },
  {
   "cell_type": "code",
   "execution_count": 17,
   "id": "e5063972-bd70-42f6-8716-228857f9ff2e",
   "metadata": {},
   "outputs": [
    {
     "data": {
      "image/png": "[encoded data removed]",
      "text/plain": [
       "<Figure size 640x480 with 1 Axes>"
      ]
     },
     "metadata": {},
     "output_type": "display_data"
    }
   ],
   "source": [
    "import pandas as pd\n",
    "import matplotlib.pyplot as plt\n",
    "\n",
    "# Feature importance\n",
    "feature_importances = best_model.feature_importances_\n",
    "feature_names = X.columns\n",
    "\n",
    "# Sort & plot\n",
    "sorted_idx = feature_importances.argsort()\n",
    "plt.barh(feature_names[sorted_idx], feature_importances[sorted_idx])\n",
    "plt.xlabel(\"Feature Importance\")\n",
    "plt.title(\"Random Forest Feature Importance\")\n",
    "plt.show()\n"
   ]
  },
  {
   "cell_type": "code",
   "execution_count": 18,
   "id": "5a520ede-3d10-42a8-8ce3-09d6107e97ab",
   "metadata": {},
   "outputs": [
    {
     "name": "stdout",
     "output_type": "stream",
     "text": [
      "Predicted Crop: 1\n"
     ]
    }
   ],
   "source": [
    "new_data = pd.DataFrame({\n",
    "    \"Nitrogen (mg/kg)\": [50],\n",
    "    \"Phosphorus (mg/kg)\": [60],\n",
    "    \"Potassium (mg/kg)\": [140],\n",
    "    \"Soil Moisture (in %)\": [45],\n",
    "    \"Temperature (in °C)\": [28],\n",
    "    \"Humidity (in %)\": [76],\n",
    "    \"Farming_Method\": [1]  # Encode it as needed\n",
    "})\n",
    "prediction = best_model.predict(new_data)\n",
    "print(\"Predicted Crop:\", prediction[0])\n"
   ]
  },
  {
   "cell_type": "code",
   "execution_count": 19,
   "id": "63aa63fd-e2da-4072-9790-d2b661007a9e",
   "metadata": {},
   "outputs": [
    {
     "name": "stdout",
     "output_type": "stream",
     "text": [
      "Predicted Crop: Maize\n"
     ]
    }
   ],
   "source": [
    "# Map numeric labels back to original crop names\n",
    "label_mapping = {0: \"Rice\", 1: \"Maize\"}  # Adjust based on your encoding\n",
    "\n",
    "predicted_crop = label_mapping.get(prediction[0], \"Unknown\")\n",
    "print(\"Predicted Crop:\", predicted_crop)\n"
   ]
  },
  {
   "cell_type": "code",
   "execution_count": 20,
   "id": "5765ea9b-bdd1-474c-aef2-f9f5711a9e30",
   "metadata": {},
   "outputs": [
    {
     "name": "stdout",
     "output_type": "stream",
     "text": [
      "Predicted Crop: Maize\n"
     ]
    }
   ],
   "source": [
    "sample_data = [[50, 70, 150, 50.0, 27.5, 76.0, 1]]  # Modify values\n",
    "sample_df = pd.DataFrame(sample_data, columns=X.columns)\n",
    "prediction = best_model.predict(sample_df)\n",
    "print(\"Predicted Crop:\", label_mapping.get(prediction[0], \"Unknown\"))\n"
   ]
  },
  {
   "cell_type": "code",
   "execution_count": 21,
   "id": "a143a252-98e8-44f9-8a1f-ed7f94f025ff",
   "metadata": {},
   "outputs": [
    {
     "data": {
      "text/plain": [
       "['crop_recommendation_model.pkl']"
      ]
     },
     "execution_count": 21,
     "metadata": {},
     "output_type": "execute_result"
    }
   ],
   "source": [
    "import joblib\n",
    "joblib.dump(best_model, \"crop_recommendation_model.pkl\")\n"
   ]
  },
  {
   "cell_type": "code",
   "execution_count": 22,
   "id": "1b6deb55-3dbb-4b76-9e65-0a6374d466db",
   "metadata": {},
   "outputs": [
    {
     "name": "stdout",
     "output_type": "stream",
     "text": [
      "Cross-Validation Accuracy: 0.73\n"
     ]
    }
   ],
   "source": [
    "from sklearn.model_selection import cross_val_score\n",
    "\n",
    "cv_scores = cross_val_score(model, X, y, cv=5)  # 5-fold cross-validation\n",
    "print(f\"Cross-Validation Accuracy: {cv_scores.mean():.2f}\")\n"
   ]
  },
  {
   "cell_type": "code",
   "execution_count": 23,
   "id": "e0af3657-3874-4dd0-b60f-74aa21df2c33",
   "metadata": {},
   "outputs": [],
   "source": [
    "model = joblib.load(\"crop_recommendation_model.pkl\")\n"
   ]
  },
  {
   "cell_type": "code",
   "execution_count": 29,
   "id": "7e1e8d7e-6b56-471d-985d-e9a723ce43eb",
   "metadata": {},
   "outputs": [
    {
     "name": "stdout",
     "output_type": "stream",
     "text": [
      "Label\n",
      "0        44\n",
      "1        44\n",
      "Name: count, dtype: int64\n",
      "Empty DataFrame\n",
      "Columns: [Nitrogen (mg/kg), Phosphorus (mg/kg), Potassium (mg/kg), Soil Moisture (in %), Temperature (in °C), Humidity (in %), Farming_Method, Label]\n",
      "Index: []\n"
     ]
    }
   ],
   "source": [
    "print(df[['Label']].value_counts())  # Ensure Rice = 0, Maize = 1\n",
    "print(df[(df['Nitrogen (mg/kg)'] == 58.0) & \n",
    "         (df['Phosphorus (mg/kg)'] == 81.0) & \n",
    "         (df['Potassium (mg/kg)'] == 162.0) & \n",
    "         (df['Soil Moisture (in %)'] == 51.0) & \n",
    "         (df['Temperature (in °C)'] == 27.0) & \n",
    "         (df['Humidity (in %)'] == 75.0) & \n",
    "         (df['Farming_Method'] == 1)])\n"
   ]
  },
  {
   "cell_type": "code",
   "execution_count": 30,
   "id": "51172bd6-ec22-4f7c-86c9-1f0b06dc0e19",
   "metadata": {},
   "outputs": [
    {
     "data": {
      "text/html": [
       "<div>\n",
       "<style scoped>\n",
       "    .dataframe tbody tr th:only-of-type {\n",
       "        vertical-align: middle;\n",
       "    }\n",
       "\n",
       "    .dataframe tbody tr th {\n",
       "        vertical-align: top;\n",
       "    }\n",
       "\n",
       "    .dataframe thead th {\n",
       "        text-align: right;\n",
       "    }\n",
       "</style>\n",
       "<table border=\"1\" class=\"dataframe\">\n",
       "  <thead>\n",
       "    <tr style=\"text-align: right;\">\n",
       "      <th></th>\n",
       "      <th>Nitrogen (mg/kg)</th>\n",
       "      <th>Phosphorus (mg/kg)</th>\n",
       "      <th>Potassium (mg/kg)</th>\n",
       "      <th>Soil Moisture (in %)</th>\n",
       "      <th>Temperature (in °C)</th>\n",
       "      <th>Humidity (in %)</th>\n",
       "      <th>Farming_Method</th>\n",
       "      <th>Label</th>\n",
       "    </tr>\n",
       "  </thead>\n",
       "  <tbody>\n",
       "    <tr>\n",
       "      <th>0</th>\n",
       "      <td>58</td>\n",
       "      <td>81</td>\n",
       "      <td>162</td>\n",
       "      <td>51.0</td>\n",
       "      <td>27.9</td>\n",
       "      <td>75.9</td>\n",
       "      <td>2</td>\n",
       "      <td>0</td>\n",
       "    </tr>\n",
       "    <tr>\n",
       "      <th>1</th>\n",
       "      <td>58</td>\n",
       "      <td>81</td>\n",
       "      <td>162</td>\n",
       "      <td>51.0</td>\n",
       "      <td>27.9</td>\n",
       "      <td>73.6</td>\n",
       "      <td>2</td>\n",
       "      <td>0</td>\n",
       "    </tr>\n",
       "    <tr>\n",
       "      <th>2</th>\n",
       "      <td>38</td>\n",
       "      <td>54</td>\n",
       "      <td>108</td>\n",
       "      <td>54.8</td>\n",
       "      <td>27.9</td>\n",
       "      <td>75.4</td>\n",
       "      <td>0</td>\n",
       "      <td>0</td>\n",
       "    </tr>\n",
       "    <tr>\n",
       "      <th>3</th>\n",
       "      <td>39</td>\n",
       "      <td>54</td>\n",
       "      <td>109</td>\n",
       "      <td>55.6</td>\n",
       "      <td>27.9</td>\n",
       "      <td>75.2</td>\n",
       "      <td>0</td>\n",
       "      <td>0</td>\n",
       "    </tr>\n",
       "    <tr>\n",
       "      <th>4</th>\n",
       "      <td>38</td>\n",
       "      <td>54</td>\n",
       "      <td>108</td>\n",
       "      <td>54.7</td>\n",
       "      <td>27.9</td>\n",
       "      <td>75.4</td>\n",
       "      <td>0</td>\n",
       "      <td>0</td>\n",
       "    </tr>\n",
       "    <tr>\n",
       "      <th>5</th>\n",
       "      <td>16</td>\n",
       "      <td>33</td>\n",
       "      <td>78</td>\n",
       "      <td>65.0</td>\n",
       "      <td>28.0</td>\n",
       "      <td>75.7</td>\n",
       "      <td>0</td>\n",
       "      <td>0</td>\n",
       "    </tr>\n",
       "    <tr>\n",
       "      <th>6</th>\n",
       "      <td>37</td>\n",
       "      <td>52</td>\n",
       "      <td>104</td>\n",
       "      <td>56.1</td>\n",
       "      <td>28.0</td>\n",
       "      <td>77.4</td>\n",
       "      <td>0</td>\n",
       "      <td>0</td>\n",
       "    </tr>\n",
       "    <tr>\n",
       "      <th>7</th>\n",
       "      <td>37</td>\n",
       "      <td>52</td>\n",
       "      <td>104</td>\n",
       "      <td>56.0</td>\n",
       "      <td>28.0</td>\n",
       "      <td>76.5</td>\n",
       "      <td>0</td>\n",
       "      <td>0</td>\n",
       "    </tr>\n",
       "    <tr>\n",
       "      <th>8</th>\n",
       "      <td>37</td>\n",
       "      <td>52</td>\n",
       "      <td>105</td>\n",
       "      <td>55.5</td>\n",
       "      <td>28.0</td>\n",
       "      <td>76.9</td>\n",
       "      <td>0</td>\n",
       "      <td>0</td>\n",
       "    </tr>\n",
       "    <tr>\n",
       "      <th>9</th>\n",
       "      <td>30</td>\n",
       "      <td>40</td>\n",
       "      <td>17</td>\n",
       "      <td>52.1</td>\n",
       "      <td>28.0</td>\n",
       "      <td>77.5</td>\n",
       "      <td>0</td>\n",
       "      <td>0</td>\n",
       "    </tr>\n",
       "  </tbody>\n",
       "</table>\n",
       "</div>"
      ],
      "text/plain": [
       "   Nitrogen (mg/kg)  Phosphorus (mg/kg)  Potassium (mg/kg)  \\\n",
       "0                58                  81                162   \n",
       "1                58                  81                162   \n",
       "2                38                  54                108   \n",
       "3                39                  54                109   \n",
       "4                38                  54                108   \n",
       "5                16                  33                 78   \n",
       "6                37                  52                104   \n",
       "7                37                  52                104   \n",
       "8                37                  52                105   \n",
       "9                30                  40                 17   \n",
       "\n",
       "   Soil Moisture (in %)  Temperature (in °C)  Humidity (in %)  Farming_Method  \\\n",
       "0                  51.0                 27.9             75.9               2   \n",
       "1                  51.0                 27.9             73.6               2   \n",
       "2                  54.8                 27.9             75.4               0   \n",
       "3                  55.6                 27.9             75.2               0   \n",
       "4                  54.7                 27.9             75.4               0   \n",
       "5                  65.0                 28.0             75.7               0   \n",
       "6                  56.1                 28.0             77.4               0   \n",
       "7                  56.0                 28.0             76.5               0   \n",
       "8                  55.5                 28.0             76.9               0   \n",
       "9                  52.1                 28.0             77.5               0   \n",
       "\n",
       "   Label  \n",
       "0      0  \n",
       "1      0  \n",
       "2      0  \n",
       "3      0  \n",
       "4      0  \n",
       "5      0  \n",
       "6      0  \n",
       "7      0  \n",
       "8      0  \n",
       "9      0  "
      ]
     },
     "execution_count": 30,
     "metadata": {},
     "output_type": "execute_result"
    }
   ],
   "source": [
    "df[['Nitrogen (mg/kg)', 'Phosphorus (mg/kg)', 'Potassium (mg/kg)', \n",
    "    'Soil Moisture (in %)', 'Temperature (in °C)', 'Humidity (in %)', \n",
    "    'Farming_Method', 'Label']].head(10)  # Check sample data\n"
   ]
  },
  {
   "cell_type": "code",
   "execution_count": 31,
   "id": "1c9323fe-c1eb-4fcb-98ea-d05e0d8c7bd2",
   "metadata": {},
   "outputs": [],
   "source": [
    "X = df.drop(columns=['Label', 'Farming_Method'])  # Remove Farming_Method\n",
    "y = df['Label']\n"
   ]
  },
  {
   "cell_type": "code",
   "execution_count": 32,
   "id": "5c34d546-dbb0-429d-8031-0694ca73e47d",
   "metadata": {},
   "outputs": [
    {
     "name": "stdout",
     "output_type": "stream",
     "text": [
      "   Farming_Method\n",
      "0             NaN\n",
      "1             NaN\n",
      "2             NaN\n",
      "3             NaN\n",
      "4             NaN\n"
     ]
    }
   ],
   "source": [
    "# Encoding Farming_Method\n",
    "df['Farming_Method'] = df['Farming_Method'].map({'Jhum': 0, 'WRC': 1, 'Terrace': 2})\n",
    "\n",
    "# Check if encoding is successful\n",
    "print(df[['Farming_Method']].head())\n"
   ]
  },
  {
   "cell_type": "code",
   "execution_count": 34,
   "id": "c6a09d70-d72d-4dc3-87a7-61cefce30332",
   "metadata": {},
   "outputs": [
    {
     "name": "stdout",
     "output_type": "stream",
     "text": [
      "   Farming_Method\n",
      "0             NaN\n",
      "1             NaN\n",
      "2             NaN\n",
      "3             NaN\n",
      "4             NaN\n",
      "5             NaN\n",
      "6             NaN\n",
      "7             NaN\n",
      "8             NaN\n",
      "9             NaN\n"
     ]
    }
   ],
   "source": [
    "# Convert Farming_Method to string first\n",
    "df['Farming_Method'] = df['Farming_Method'].astype(str)\n",
    "\n",
    "# Now clean the values\n",
    "df['Farming_Method'] = df['Farming_Method'].str.strip().str.capitalize()\n",
    "\n",
    "# Encode values\n",
    "df['Farming_Method'] = df['Farming_Method'].map({'Jhum': 0, 'Wrc': 1, 'Terrace': 2})\n",
    "\n",
    "# Check encoding\n",
    "print(df[['Farming_Method']].head(10))\n"
   ]
  },
  {
   "cell_type": "code",
   "execution_count": 36,
   "id": "37e7e57f-13de-4697-b82c-d24f227c0165",
   "metadata": {},
   "outputs": [
    {
     "name": "stdout",
     "output_type": "stream",
     "text": [
      "['nan']\n",
      "    Nitrogen (mg/kg)  Phosphorus (mg/kg)  Potassium (mg/kg)  \\\n",
      "0                 58                  81                162   \n",
      "1                 58                  81                162   \n",
      "2                 38                  54                108   \n",
      "3                 39                  54                109   \n",
      "4                 38                  54                108   \n",
      "..               ...                 ...                ...   \n",
      "83                58                  82                166   \n",
      "84                58                  82                164   \n",
      "85                58                  82                164   \n",
      "86                10                  14                 29   \n",
      "87                58                  81                162   \n",
      "\n",
      "    Soil Moisture (in %)  Temperature (in °C)  Humidity (in %)  \\\n",
      "0                   51.0                 27.9             75.9   \n",
      "1                   51.0                 27.9             73.6   \n",
      "2                   54.8                 27.9             75.4   \n",
      "3                   55.6                 27.9             75.2   \n",
      "4                   54.7                 27.9             75.4   \n",
      "..                   ...                  ...              ...   \n",
      "83                  55.5                 27.3             77.6   \n",
      "84                  52.5                 27.2             77.9   \n",
      "85                  54.8                 27.2             77.0   \n",
      "86                 100.0                 27.2             77.3   \n",
      "87                   4.5                 27.2             78.2   \n",
      "\n",
      "    Farming_Method  Label  \n",
      "0              NaN      0  \n",
      "1              NaN      0  \n",
      "2              NaN      0  \n",
      "3              NaN      0  \n",
      "4              NaN      0  \n",
      "..             ...    ...  \n",
      "83             NaN      1  \n",
      "84             NaN      1  \n",
      "85             NaN      1  \n",
      "86             NaN      1  \n",
      "87             NaN      1  \n",
      "\n",
      "[88 rows x 8 columns]\n"
     ]
    }
   ],
   "source": [
    "# Convert column to string first\n",
    "df['Farming_Method'] = df['Farming_Method'].astype(str)\n",
    "\n",
    "# Strip spaces and check unique values\n",
    "df['Farming_Method'] = df['Farming_Method'].str.strip()\n",
    "print(df['Farming_Method'].unique())  # Check actual unique values\n",
    "# Standardizing text case\n",
    "df['Farming_Method'] = df['Farming_Method'].str.capitalize()\n",
    "\n",
    "# Map known values correctly\n",
    "df['Farming_Method'] = df['Farming_Method'].map({\n",
    "    'Jhum': 0, 'Wrc': 1, 'Terrace': 2, \n",
    "    'Wet Rice Cultivation': 1,  # If WRC is written differently\n",
    "    'Jhum Cultivation': 0       # If Jhum is written differently\n",
    "})\n",
    "\n",
    "# Check if any unmapped values remain\n",
    "print(df[df['Farming_Method'].isna()])  # Shows rows where mapping failed\n",
    "\n"
   ]
  },
  {
   "cell_type": "code",
   "execution_count": 37,
   "id": "ca949880-8184-458c-8878-d716bee712fa",
   "metadata": {},
   "outputs": [
    {
     "name": "stdout",
     "output_type": "stream",
     "text": [
      "Nitrogen (mg/kg)          int64\n",
      "Phosphorus (mg/kg)        int64\n",
      "Potassium (mg/kg)         int64\n",
      "Soil Moisture (in %)    float64\n",
      "Temperature (in °C)     float64\n",
      "Humidity (in %)         float64\n",
      "Farming_Method          float64\n",
      "Label                     int64\n",
      "dtype: object\n"
     ]
    }
   ],
   "source": [
    "print(df.dtypes)  # Check if Farming_Method is object (string)\n"
   ]
  },
  {
   "cell_type": "code",
   "execution_count": 38,
   "id": "0cd340c1-e66b-4fd0-91fc-56e4128998f5",
   "metadata": {},
   "outputs": [
    {
     "name": "stdout",
     "output_type": "stream",
     "text": [
      "[nan]\n"
     ]
    }
   ],
   "source": [
    "print(df['Farming_Method'].unique())  \n"
   ]
  },
  {
   "cell_type": "code",
   "execution_count": 42,
   "id": "8af0a221-d5c3-48fb-a12b-c0aaf5f03b1a",
   "metadata": {},
   "outputs": [
    {
     "name": "stdout",
     "output_type": "stream",
     "text": [
      "['WRC' 'Jhum' 'Terrace']\n",
      "['Wrc' 'Jhum' 'Terrace']\n"
     ]
    }
   ],
   "source": [
    "import pandas as pd\n",
    "\n",
    "# Load Excel file with correct dtype\n",
    "df = pd.read_excel(\"Rice_Maize_recommendation.xlsx\", dtype={\"Farming_Method\": str})\n",
    "\n",
    "# Print unique values to check for issues\n",
    "print(df['Farming_Method'].unique())\n",
    "\n",
    "# Clean the column: strip spaces, standardize capitalization, and remove invalid entries\n",
    "df['Farming_Method'] = df['Farming_Method'].astype(str).str.strip().str.capitalize()\n",
    "df['Farming_Method'] = df['Farming_Method'].replace([\"nan\", \"NaN\", \"None\"], pd.NA)\n",
    "\n",
    "# Check again\n",
    "print(df['Farming_Method'].unique())\n"
   ]
  },
  {
   "cell_type": "code",
   "execution_count": 43,
   "id": "81eef1db-3e26-47ad-83b5-9c768ddfce04",
   "metadata": {},
   "outputs": [
    {
     "name": "stdout",
     "output_type": "stream",
     "text": [
      "[1 0 2]\n"
     ]
    }
   ],
   "source": [
    "# Encoding Farming_Method\n",
    "df['Farming_Method'] = df['Farming_Method'].map({'Jhum': 0, 'Wrc': 1, 'Terrace': 2})\n",
    "\n",
    "# Check if encoding is successful\n",
    "print(df['Farming_Method'].unique())\n"
   ]
  },
  {
   "cell_type": "code",
   "execution_count": 50,
   "id": "e017060f-99cb-4ca6-aba9-ca9f93275684",
   "metadata": {},
   "outputs": [
    {
     "name": "stdout",
     "output_type": "stream",
     "text": [
      "['Nitrogen\\n(mg/kg)', 'Phosphorus\\n(mg/kg)', 'Potassium\\n(mg/kg)', 'Soil Moisture\\n(in %)', 'Temperature\\n(in °C)', 'Humidity\\n(in %)', 'Farming_Method', 'Label']\n",
      "[\"'Nitrogen\\\\n(mg/kg)'\", \"'Phosphorus\\\\n(mg/kg)'\", \"'Potassium\\\\n(mg/kg)'\", \"'Soil Moisture\\\\n(in %)'\", \"'Temperature\\\\n(in °C)'\", \"'Humidity\\\\n(in %)'\", \"'Farming_Method'\", \"'Label'\"]\n"
     ]
    }
   ],
   "source": [
    "print(df.columns.tolist())  # Print all column names exactly\n",
    "\n",
    "df.columns = df.columns.str.strip()  # Remove extra spaces\n",
    "\n",
    "print([repr(col) for col in df.columns])\n",
    "\n",
    "df = pd.read_excel(\"Rice_Maize_recommendation.xlsx\", sheet_name=0)  # Check sheet name\n",
    "\n"
   ]
  },
  {
   "cell_type": "code",
   "execution_count": 54,
   "id": "a8c6a9db-e3fe-40e4-904d-775570714499",
   "metadata": {},
   "outputs": [
    {
     "name": "stdout",
     "output_type": "stream",
     "text": [
      "['Nitrogen (mg/kg)', 'Phosphorus (mg/kg)', 'Potassium (mg/kg)', 'Soil Moisture (in %)', 'Temperature (in °C)', 'Humidity (in %)', 'Farming_Method', 'Label']\n"
     ]
    }
   ],
   "source": [
    "df.columns = df.columns.str.replace('\\n', ' ', regex=True)  # Remove newlines\n",
    "print(df.columns.tolist())  # Ensure there are no '\\n'\n",
    "\n",
    "\n"
   ]
  },
  {
   "cell_type": "code",
   "execution_count": 55,
   "id": "e9305248-76a8-4782-9ff0-3cc44f0d9a4f",
   "metadata": {},
   "outputs": [
    {
     "name": "stdout",
     "output_type": "stream",
     "text": [
      "Empty DataFrame\n",
      "Columns: [Nitrogen (mg/kg), Phosphorus (mg/kg), Potassium (mg/kg), Soil Moisture (in %), Temperature (in °C), Humidity (in %), Farming_Method, Label]\n",
      "Index: []\n"
     ]
    }
   ],
   "source": [
    "print(df[(df['Nitrogen (mg/kg)'] == 58.0) & \n",
    "         (df['Phosphorus (mg/kg)'] == 81.0) & \n",
    "         (df['Potassium (mg/kg)'] == 162.0) & \n",
    "         (df['Soil Moisture (in %)'] == 51.0) & \n",
    "         (df['Temperature (in °C)'] == 27.0) & \n",
    "         (df['Humidity (in %)'] == 75.0) & \n",
    "         (df['Farming_Method'] == 1)])  # 1 for WRC"
   ]
  },
  {
   "cell_type": "code",
   "execution_count": 87,
   "id": "9a7ce1b9-ae2f-4222-a527-52b4db7da05a",
   "metadata": {},
   "outputs": [
    {
     "name": "stdout",
     "output_type": "stream",
     "text": [
      "Original Unique Values: [-1]\n"
     ]
    }
   ],
   "source": [
    "print(\"Original Unique Values:\", df['Farming_Method'].unique())\n"
   ]
  },
  {
   "cell_type": "code",
   "execution_count": 89,
   "id": "1eaed002-d403-43be-9201-f2903a49323a",
   "metadata": {},
   "outputs": [
    {
     "name": "stdout",
     "output_type": "stream",
     "text": [
      "After Cleaning: ['WRC' 'JHUM' 'TERRACE']\n",
      "Final Unique Farming_Method values: [1 3 4]\n"
     ]
    }
   ],
   "source": [
    "import pandas as pd\n",
    "\n",
    "# Load your Excel file\n",
    "file_path = \"Rice_Maize_recommendation.xlsx\"  # Your file name\n",
    "df = pd.read_excel(file_path, dtype={'Farming_Method': str})  # Force column as string\n",
    "\n",
    "# Strip spaces and convert to uppercase for consistency\n",
    "df['Farming_Method'] = df['Farming_Method'].str.strip().str.upper()\n",
    "\n",
    "# Replace unwanted values with 'UNKNOWN'\n",
    "df['Farming_Method'] = df['Farming_Method'].replace({'-1': 'UNKNOWN', 'NAN': 'UNKNOWN', '': 'UNKNOWN'})\n",
    "\n",
    "print(\"After Cleaning:\", df['Farming_Method'].unique())  # Check values\n",
    "\n",
    "# Define mapping\n",
    "mapping = {'WRC': 1, 'SRI': 2, 'JHUM': 3, 'TERRACE': 4, 'UNKNOWN': -1}\n",
    "\n",
    "# Apply mapping\n",
    "df['Farming_Method'] = df['Farming_Method'].map(mapping)\n",
    "\n",
    "print(\"Final Unique Farming_Method values:\", df['Farming_Method'].unique())  # Should show [1, 2, 3, 4, -1]\n"
   ]
  },
  {
   "cell_type": "code",
   "execution_count": 90,
   "id": "6fd511d9-78ff-4cf8-b741-08fc6e497e81",
   "metadata": {},
   "outputs": [
    {
     "name": "stdout",
     "output_type": "stream",
     "text": [
      "Nitrogen\\n(mg/kg)        0\n",
      "Phosphorus\\n(mg/kg)      0\n",
      "Potassium\\n(mg/kg)       0\n",
      "Soil Moisture\\n(in %)    0\n",
      "Temperature\\n(in °C)     0\n",
      "Humidity\\n(in %)         0\n",
      "Farming_Method           0\n",
      "Label                    0\n",
      "dtype: int64\n"
     ]
    }
   ],
   "source": [
    "print(df.isnull().sum())\n"
   ]
  },
  {
   "cell_type": "code",
   "execution_count": 93,
   "id": "d6171550-d873-46a9-9378-af771a668853",
   "metadata": {},
   "outputs": [],
   "source": [
    "X = df.drop(columns=['Label'])  # Features (drop the target column)\n",
    "y = df['Label']  # Target variable (Rice/Maize)\n"
   ]
  },
  {
   "cell_type": "code",
   "execution_count": 94,
   "id": "6e6324a3-1808-43a2-8a9c-ef48964c0aa1",
   "metadata": {},
   "outputs": [],
   "source": [
    "from sklearn.model_selection import train_test_split\n",
    "\n",
    "X_train, X_test, y_train, y_test = train_test_split(X, y, test_size=0.2, random_state=42)\n"
   ]
  },
  {
   "cell_type": "code",
   "execution_count": 95,
   "id": "6b47ac65-0194-439f-9824-e5fcbd86c779",
   "metadata": {},
   "outputs": [
    {
     "data": {
      "text/html": [
       "<style>#sk-container-id-1 {\n",
       "  /* Definition of color scheme common for light and dark mode */\n",
       "  --sklearn-color-text: #000;\n",
       "  --sklearn-color-text-muted: #666;\n",
       "  --sklearn-color-line: gray;\n",
       "  /* Definition of color scheme for unfitted estimators */\n",
       "  --sklearn-color-unfitted-level-0: #fff5e6;\n",
       "  --sklearn-color-unfitted-level-1: #f6e4d2;\n",
       "  --sklearn-color-unfitted-level-2: #ffe0b3;\n",
       "  --sklearn-color-unfitted-level-3: chocolate;\n",
       "  /* Definition of color scheme for fitted estimators */\n",
       "  --sklearn-color-fitted-level-0: #f0f8ff;\n",
       "  --sklearn-color-fitted-level-1: #d4ebff;\n",
       "  --sklearn-color-fitted-level-2: #b3dbfd;\n",
       "  --sklearn-color-fitted-level-3: cornflowerblue;\n",
       "\n",
       "  /* Specific color for light theme */\n",
       "  --sklearn-color-text-on-default-background: var(--sg-text-color, var(--theme-code-foreground, var(--jp-content-font-color1, black)));\n",
       "  --sklearn-color-background: var(--sg-background-color, var(--theme-background, var(--jp-layout-color0, white)));\n",
       "  --sklearn-color-border-box: var(--sg-text-color, var(--theme-code-foreground, var(--jp-content-font-color1, black)));\n",
       "  --sklearn-color-icon: #696969;\n",
       "\n",
       "  @media (prefers-color-scheme: dark) {\n",
       "    /* Redefinition of color scheme for dark theme */\n",
       "    --sklearn-color-text-on-default-background: var(--sg-text-color, var(--theme-code-foreground, var(--jp-content-font-color1, white)));\n",
       "    --sklearn-color-background: var(--sg-background-color, var(--theme-background, var(--jp-layout-color0, #111)));\n",
       "    --sklearn-color-border-box: var(--sg-text-color, var(--theme-code-foreground, var(--jp-content-font-color1, white)));\n",
       "    --sklearn-color-icon: #878787;\n",
       "  }\n",
       "}\n",
       "\n",
       "#sk-container-id-1 {\n",
       "  color: var(--sklearn-color-text);\n",
       "}\n",
       "\n",
       "#sk-container-id-1 pre {\n",
       "  padding: 0;\n",
       "}\n",
       "\n",
       "#sk-container-id-1 input.sk-hidden--visually {\n",
       "  border: 0;\n",
       "  clip: rect(1px 1px 1px 1px);\n",
       "  clip: rect(1px, 1px, 1px, 1px);\n",
       "  height: 1px;\n",
       "  margin: -1px;\n",
       "  overflow: hidden;\n",
       "  padding: 0;\n",
       "  position: absolute;\n",
       "  width: 1px;\n",
       "}\n",
       "\n",
       "#sk-container-id-1 div.sk-dashed-wrapped {\n",
       "  border: 1px dashed var(--sklearn-color-line);\n",
       "  margin: 0 0.4em 0.5em 0.4em;\n",
       "  box-sizing: border-box;\n",
       "  padding-bottom: 0.4em;\n",
       "  background-color: var(--sklearn-color-background);\n",
       "}\n",
       "\n",
       "#sk-container-id-1 div.sk-container {\n",
       "  /* jupyter's `normalize.less` sets `[hidden] { display: none; }`\n",
       "     but bootstrap.min.css set `[hidden] { display: none !important; }`\n",
       "     so we also need the `!important` here to be able to override the\n",
       "     default hidden behavior on the sphinx rendered scikit-learn.org.\n",
       "     See: https://github.com/scikit-learn/scikit-learn/issues/21755 */\n",
       "  display: inline-block !important;\n",
       "  position: relative;\n",
       "}\n",
       "\n",
       "#sk-container-id-1 div.sk-text-repr-fallback {\n",
       "  display: none;\n",
       "}\n",
       "\n",
       "div.sk-parallel-item,\n",
       "div.sk-serial,\n",
       "div.sk-item {\n",
       "  /* draw centered vertical line to link estimators */\n",
       "  background-image: linear-gradient(var(--sklearn-color-text-on-default-background), var(--sklearn-color-text-on-default-background));\n",
       "  background-size: 2px 100%;\n",
       "  background-repeat: no-repeat;\n",
       "  background-position: center center;\n",
       "}\n",
       "\n",
       "/* Parallel-specific style estimator block */\n",
       "\n",
       "#sk-container-id-1 div.sk-parallel-item::after {\n",
       "  content: \"\";\n",
       "  width: 100%;\n",
       "  border-bottom: 2px solid var(--sklearn-color-text-on-default-background);\n",
       "  flex-grow: 1;\n",
       "}\n",
       "\n",
       "#sk-container-id-1 div.sk-parallel {\n",
       "  display: flex;\n",
       "  align-items: stretch;\n",
       "  justify-content: center;\n",
       "  background-color: var(--sklearn-color-background);\n",
       "  position: relative;\n",
       "}\n",
       "\n",
       "#sk-container-id-1 div.sk-parallel-item {\n",
       "  display: flex;\n",
       "  flex-direction: column;\n",
       "}\n",
       "\n",
       "#sk-container-id-1 div.sk-parallel-item:first-child::after {\n",
       "  align-self: flex-end;\n",
       "  width: 50%;\n",
       "}\n",
       "\n",
       "#sk-container-id-1 div.sk-parallel-item:last-child::after {\n",
       "  align-self: flex-start;\n",
       "  width: 50%;\n",
       "}\n",
       "\n",
       "#sk-container-id-1 div.sk-parallel-item:only-child::after {\n",
       "  width: 0;\n",
       "}\n",
       "\n",
       "/* Serial-specific style estimator block */\n",
       "\n",
       "#sk-container-id-1 div.sk-serial {\n",
       "  display: flex;\n",
       "  flex-direction: column;\n",
       "  align-items: center;\n",
       "  background-color: var(--sklearn-color-background);\n",
       "  padding-right: 1em;\n",
       "  padding-left: 1em;\n",
       "}\n",
       "\n",
       "\n",
       "/* Toggleable style: style used for estimator/Pipeline/ColumnTransformer box that is\n",
       "clickable and can be expanded/collapsed.\n",
       "- Pipeline and ColumnTransformer use this feature and define the default style\n",
       "- Estimators will overwrite some part of the style using the `sk-estimator` class\n",
       "*/\n",
       "\n",
       "/* Pipeline and ColumnTransformer style (default) */\n",
       "\n",
       "#sk-container-id-1 div.sk-toggleable {\n",
       "  /* Default theme specific background. It is overwritten whether we have a\n",
       "  specific estimator or a Pipeline/ColumnTransformer */\n",
       "  background-color: var(--sklearn-color-background);\n",
       "}\n",
       "\n",
       "/* Toggleable label */\n",
       "#sk-container-id-1 label.sk-toggleable__label {\n",
       "  cursor: pointer;\n",
       "  display: flex;\n",
       "  width: 100%;\n",
       "  margin-bottom: 0;\n",
       "  padding: 0.5em;\n",
       "  box-sizing: border-box;\n",
       "  text-align: center;\n",
       "  align-items: start;\n",
       "  justify-content: space-between;\n",
       "  gap: 0.5em;\n",
       "}\n",
       "\n",
       "#sk-container-id-1 label.sk-toggleable__label .caption {\n",
       "  font-size: 0.6rem;\n",
       "  font-weight: lighter;\n",
       "  color: var(--sklearn-color-text-muted);\n",
       "}\n",
       "\n",
       "#sk-container-id-1 label.sk-toggleable__label-arrow:before {\n",
       "  /* Arrow on the left of the label */\n",
       "  content: \"▸\";\n",
       "  float: left;\n",
       "  margin-right: 0.25em;\n",
       "  color: var(--sklearn-color-icon);\n",
       "}\n",
       "\n",
       "#sk-container-id-1 label.sk-toggleable__label-arrow:hover:before {\n",
       "  color: var(--sklearn-color-text);\n",
       "}\n",
       "\n",
       "/* Toggleable content - dropdown */\n",
       "\n",
       "#sk-container-id-1 div.sk-toggleable__content {\n",
       "  max-height: 0;\n",
       "  max-width: 0;\n",
       "  overflow: hidden;\n",
       "  text-align: left;\n",
       "  /* unfitted */\n",
       "  background-color: var(--sklearn-color-unfitted-level-0);\n",
       "}\n",
       "\n",
       "#sk-container-id-1 div.sk-toggleable__content.fitted {\n",
       "  /* fitted */\n",
       "  background-color: var(--sklearn-color-fitted-level-0);\n",
       "}\n",
       "\n",
       "#sk-container-id-1 div.sk-toggleable__content pre {\n",
       "  margin: 0.2em;\n",
       "  border-radius: 0.25em;\n",
       "  color: var(--sklearn-color-text);\n",
       "  /* unfitted */\n",
       "  background-color: var(--sklearn-color-unfitted-level-0);\n",
       "}\n",
       "\n",
       "#sk-container-id-1 div.sk-toggleable__content.fitted pre {\n",
       "  /* unfitted */\n",
       "  background-color: var(--sklearn-color-fitted-level-0);\n",
       "}\n",
       "\n",
       "#sk-container-id-1 input.sk-toggleable__control:checked~div.sk-toggleable__content {\n",
       "  /* Expand drop-down */\n",
       "  max-height: 200px;\n",
       "  max-width: 100%;\n",
       "  overflow: auto;\n",
       "}\n",
       "\n",
       "#sk-container-id-1 input.sk-toggleable__control:checked~label.sk-toggleable__label-arrow:before {\n",
       "  content: \"▾\";\n",
       "}\n",
       "\n",
       "/* Pipeline/ColumnTransformer-specific style */\n",
       "\n",
       "#sk-container-id-1 div.sk-label input.sk-toggleable__control:checked~label.sk-toggleable__label {\n",
       "  color: var(--sklearn-color-text);\n",
       "  background-color: var(--sklearn-color-unfitted-level-2);\n",
       "}\n",
       "\n",
       "#sk-container-id-1 div.sk-label.fitted input.sk-toggleable__control:checked~label.sk-toggleable__label {\n",
       "  background-color: var(--sklearn-color-fitted-level-2);\n",
       "}\n",
       "\n",
       "/* Estimator-specific style */\n",
       "\n",
       "/* Colorize estimator box */\n",
       "#sk-container-id-1 div.sk-estimator input.sk-toggleable__control:checked~label.sk-toggleable__label {\n",
       "  /* unfitted */\n",
       "  background-color: var(--sklearn-color-unfitted-level-2);\n",
       "}\n",
       "\n",
       "#sk-container-id-1 div.sk-estimator.fitted input.sk-toggleable__control:checked~label.sk-toggleable__label {\n",
       "  /* fitted */\n",
       "  background-color: var(--sklearn-color-fitted-level-2);\n",
       "}\n",
       "\n",
       "#sk-container-id-1 div.sk-label label.sk-toggleable__label,\n",
       "#sk-container-id-1 div.sk-label label {\n",
       "  /* The background is the default theme color */\n",
       "  color: var(--sklearn-color-text-on-default-background);\n",
       "}\n",
       "\n",
       "/* On hover, darken the color of the background */\n",
       "#sk-container-id-1 div.sk-label:hover label.sk-toggleable__label {\n",
       "  color: var(--sklearn-color-text);\n",
       "  background-color: var(--sklearn-color-unfitted-level-2);\n",
       "}\n",
       "\n",
       "/* Label box, darken color on hover, fitted */\n",
       "#sk-container-id-1 div.sk-label.fitted:hover label.sk-toggleable__label.fitted {\n",
       "  color: var(--sklearn-color-text);\n",
       "  background-color: var(--sklearn-color-fitted-level-2);\n",
       "}\n",
       "\n",
       "/* Estimator label */\n",
       "\n",
       "#sk-container-id-1 div.sk-label label {\n",
       "  font-family: monospace;\n",
       "  font-weight: bold;\n",
       "  display: inline-block;\n",
       "  line-height: 1.2em;\n",
       "}\n",
       "\n",
       "#sk-container-id-1 div.sk-label-container {\n",
       "  text-align: center;\n",
       "}\n",
       "\n",
       "/* Estimator-specific */\n",
       "#sk-container-id-1 div.sk-estimator {\n",
       "  font-family: monospace;\n",
       "  border: 1px dotted var(--sklearn-color-border-box);\n",
       "  border-radius: 0.25em;\n",
       "  box-sizing: border-box;\n",
       "  margin-bottom: 0.5em;\n",
       "  /* unfitted */\n",
       "  background-color: var(--sklearn-color-unfitted-level-0);\n",
       "}\n",
       "\n",
       "#sk-container-id-1 div.sk-estimator.fitted {\n",
       "  /* fitted */\n",
       "  background-color: var(--sklearn-color-fitted-level-0);\n",
       "}\n",
       "\n",
       "/* on hover */\n",
       "#sk-container-id-1 div.sk-estimator:hover {\n",
       "  /* unfitted */\n",
       "  background-color: var(--sklearn-color-unfitted-level-2);\n",
       "}\n",
       "\n",
       "#sk-container-id-1 div.sk-estimator.fitted:hover {\n",
       "  /* fitted */\n",
       "  background-color: var(--sklearn-color-fitted-level-2);\n",
       "}\n",
       "\n",
       "/* Specification for estimator info (e.g. \"i\" and \"?\") */\n",
       "\n",
       "/* Common style for \"i\" and \"?\" */\n",
       "\n",
       ".sk-estimator-doc-link,\n",
       "a:link.sk-estimator-doc-link,\n",
       "a:visited.sk-estimator-doc-link {\n",
       "  float: right;\n",
       "  font-size: smaller;\n",
       "  line-height: 1em;\n",
       "  font-family: monospace;\n",
       "  background-color: var(--sklearn-color-background);\n",
       "  border-radius: 1em;\n",
       "  height: 1em;\n",
       "  width: 1em;\n",
       "  text-decoration: none !important;\n",
       "  margin-left: 0.5em;\n",
       "  text-align: center;\n",
       "  /* unfitted */\n",
       "  border: var(--sklearn-color-unfitted-level-1) 1pt solid;\n",
       "  color: var(--sklearn-color-unfitted-level-1);\n",
       "}\n",
       "\n",
       ".sk-estimator-doc-link.fitted,\n",
       "a:link.sk-estimator-doc-link.fitted,\n",
       "a:visited.sk-estimator-doc-link.fitted {\n",
       "  /* fitted */\n",
       "  border: var(--sklearn-color-fitted-level-1) 1pt solid;\n",
       "  color: var(--sklearn-color-fitted-level-1);\n",
       "}\n",
       "\n",
       "/* On hover */\n",
       "div.sk-estimator:hover .sk-estimator-doc-link:hover,\n",
       ".sk-estimator-doc-link:hover,\n",
       "div.sk-label-container:hover .sk-estimator-doc-link:hover,\n",
       ".sk-estimator-doc-link:hover {\n",
       "  /* unfitted */\n",
       "  background-color: var(--sklearn-color-unfitted-level-3);\n",
       "  color: var(--sklearn-color-background);\n",
       "  text-decoration: none;\n",
       "}\n",
       "\n",
       "div.sk-estimator.fitted:hover .sk-estimator-doc-link.fitted:hover,\n",
       ".sk-estimator-doc-link.fitted:hover,\n",
       "div.sk-label-container:hover .sk-estimator-doc-link.fitted:hover,\n",
       ".sk-estimator-doc-link.fitted:hover {\n",
       "  /* fitted */\n",
       "  background-color: var(--sklearn-color-fitted-level-3);\n",
       "  color: var(--sklearn-color-background);\n",
       "  text-decoration: none;\n",
       "}\n",
       "\n",
       "/* Span, style for the box shown on hovering the info icon */\n",
       ".sk-estimator-doc-link span {\n",
       "  display: none;\n",
       "  z-index: 9999;\n",
       "  position: relative;\n",
       "  font-weight: normal;\n",
       "  right: .2ex;\n",
       "  padding: .5ex;\n",
       "  margin: .5ex;\n",
       "  width: min-content;\n",
       "  min-width: 20ex;\n",
       "  max-width: 50ex;\n",
       "  color: var(--sklearn-color-text);\n",
       "  box-shadow: 2pt 2pt 4pt #999;\n",
       "  /* unfitted */\n",
       "  background: var(--sklearn-color-unfitted-level-0);\n",
       "  border: .5pt solid var(--sklearn-color-unfitted-level-3);\n",
       "}\n",
       "\n",
       ".sk-estimator-doc-link.fitted span {\n",
       "  /* fitted */\n",
       "  background: var(--sklearn-color-fitted-level-0);\n",
       "  border: var(--sklearn-color-fitted-level-3);\n",
       "}\n",
       "\n",
       ".sk-estimator-doc-link:hover span {\n",
       "  display: block;\n",
       "}\n",
       "\n",
       "/* \"?\"-specific style due to the `<a>` HTML tag */\n",
       "\n",
       "#sk-container-id-1 a.estimator_doc_link {\n",
       "  float: right;\n",
       "  font-size: 1rem;\n",
       "  line-height: 1em;\n",
       "  font-family: monospace;\n",
       "  background-color: var(--sklearn-color-background);\n",
       "  border-radius: 1rem;\n",
       "  height: 1rem;\n",
       "  width: 1rem;\n",
       "  text-decoration: none;\n",
       "  /* unfitted */\n",
       "  color: var(--sklearn-color-unfitted-level-1);\n",
       "  border: var(--sklearn-color-unfitted-level-1) 1pt solid;\n",
       "}\n",
       "\n",
       "#sk-container-id-1 a.estimator_doc_link.fitted {\n",
       "  /* fitted */\n",
       "  border: var(--sklearn-color-fitted-level-1) 1pt solid;\n",
       "  color: var(--sklearn-color-fitted-level-1);\n",
       "}\n",
       "\n",
       "/* On hover */\n",
       "#sk-container-id-1 a.estimator_doc_link:hover {\n",
       "  /* unfitted */\n",
       "  background-color: var(--sklearn-color-unfitted-level-3);\n",
       "  color: var(--sklearn-color-background);\n",
       "  text-decoration: none;\n",
       "}\n",
       "\n",
       "#sk-container-id-1 a.estimator_doc_link.fitted:hover {\n",
       "  /* fitted */\n",
       "  background-color: var(--sklearn-color-fitted-level-3);\n",
       "}\n",
       "</style><div id=\"sk-container-id-1\" class=\"sk-top-container\"><div class=\"sk-text-repr-fallback\"><pre>RandomForestClassifier(random_state=42)</pre><b>In a Jupyter environment, please rerun this cell to show the HTML representation or trust the notebook. <br />On GitHub, the HTML representation is unable to render, please try loading this page with nbviewer.org.</b></div><div class=\"sk-container\" hidden><div class=\"sk-item\"><div class=\"sk-estimator fitted sk-toggleable\"><input class=\"sk-toggleable__control sk-hidden--visually\" id=\"sk-estimator-id-1\" type=\"checkbox\" checked><label for=\"sk-estimator-id-1\" class=\"sk-toggleable__label fitted sk-toggleable__label-arrow\"><div><div>RandomForestClassifier</div></div><div><a class=\"sk-estimator-doc-link fitted\" rel=\"noreferrer\" target=\"_blank\" href=\"https://scikit-learn.org/1.6/modules/generated/sklearn.ensemble.RandomForestClassifier.html\">?<span>Documentation for RandomForestClassifier</span></a><span class=\"sk-estimator-doc-link fitted\">i<span>Fitted</span></span></div></label><div class=\"sk-toggleable__content fitted\"><pre>RandomForestClassifier(random_state=42)</pre></div> </div></div></div></div>"
      ],
      "text/plain": [
       "RandomForestClassifier(random_state=42)"
      ]
     },
     "execution_count": 95,
     "metadata": {},
     "output_type": "execute_result"
    }
   ],
   "source": [
    "from sklearn.ensemble import RandomForestClassifier\n",
    "\n",
    "model = RandomForestClassifier(n_estimators=100, random_state=42)\n",
    "model.fit(X_train, y_train)\n"
   ]
  },
  {
   "cell_type": "code",
   "execution_count": 98,
   "id": "fb8f2bd2-cb3d-47f2-af46-a330355efa2f",
   "metadata": {},
   "outputs": [
    {
     "name": "stdout",
     "output_type": "stream",
     "text": [
      "Label\n",
      "Rice     44\n",
      "Maize    44\n",
      "Name: count, dtype: int64\n"
     ]
    }
   ],
   "source": [
    "print(df['Label'].value_counts())\n",
    "\n",
    "from imblearn.over_sampling import SMOTE\n",
    "\n",
    "smote = SMOTE(random_state=42)\n",
    "X_resampled, y_resampled = smote.fit_resample(X_train, y_train)\n",
    "\n",
    "\n",
    "\n"
   ]
  },
  {
   "cell_type": "code",
   "execution_count": 106,
   "id": "da0a3e3b-57f9-42bb-96ee-db0b0eaf4ec2",
   "metadata": {},
   "outputs": [
    {
     "name": "stdout",
     "output_type": "stream",
     "text": [
      "Label\n",
      "Rice     44\n",
      "Maize    44\n",
      "Name: count, dtype: int64\n"
     ]
    }
   ],
   "source": [
    "print(df['Label'].value_counts())\n",
    "from imblearn.over_sampling import SMOTE\n"
   ]
  },
  {
   "cell_type": "code",
   "execution_count": 108,
   "id": "c5e1e6a8-76e2-452b-94a5-2b51b24c4bf0",
   "metadata": {},
   "outputs": [
    {
     "name": "stdout",
     "output_type": "stream",
     "text": [
      "    Nitrogen\\n(mg/kg)  Phosphorus\\n(mg/kg)  Potassium\\n(mg/kg)  \\\n",
      "13                 30                   40                  80   \n",
      "79                 57                   82                  92   \n",
      "46                 38                   54                 108   \n",
      "24                 59                   82                 166   \n",
      "40                 58                   82                 164   \n",
      "\n",
      "    Soil Moisture\\n(in %)  Temperature\\n(in °C)  Humidity\\n(in %)  \\\n",
      "13                   67.2                  28.1              75.7   \n",
      "79                   46.8                  27.5              76.6   \n",
      "46                   54.8                  27.9              75.4   \n",
      "24                   51.1                  27.9              76.0   \n",
      "40                   52.5                  27.2              77.9   \n",
      "\n",
      "    Farming_Method  \n",
      "13             NaN  \n",
      "79             NaN  \n",
      "46             NaN  \n",
      "24             1.0  \n",
      "40             1.0  \n",
      "    Nitrogen\\n(mg/kg)  Phosphorus\\n(mg/kg)  Potassium\\n(mg/kg)  \\\n",
      "22                 59                   82                 165   \n",
      "18                 59                   82                 165   \n",
      "28                 58                   81                 162   \n",
      "20                 58                   82                 165   \n",
      "38                 58                   81                 162   \n",
      "\n",
      "    Soil Moisture\\n(in %)  Temperature\\n(in °C)  Humidity\\n(in %)  \\\n",
      "22                   51.4                  28.0              76.7   \n",
      "18                   49.1                  28.0              73.2   \n",
      "28                   50.6                  27.8              77.4   \n",
      "20                   50.4                  28.0              78.5   \n",
      "38                    9.5                  27.3              78.6   \n",
      "\n",
      "    Farming_Method  \n",
      "22             1.0  \n",
      "18             NaN  \n",
      "28             1.0  \n",
      "20             1.0  \n",
      "38             NaN  \n"
     ]
    }
   ],
   "source": [
    "print(X_train.head())  # Check feature values\n",
    "print(X_test.head())\n"
   ]
  },
  {
   "cell_type": "code",
   "execution_count": 109,
   "id": "403d2754-1621-4b6f-a231-60a86d139305",
   "metadata": {},
   "outputs": [
    {
     "name": "stdout",
     "output_type": "stream",
     "text": [
      "Label\n",
      "0    35\n",
      "1    35\n",
      "Name: count, dtype: int64\n",
      "Label\n",
      "0    9\n",
      "1    9\n",
      "Name: count, dtype: int64\n"
     ]
    }
   ],
   "source": [
    "print(y_train.value_counts())\n",
    "print(y_test.value_counts())\n"
   ]
  },
  {
   "cell_type": "code",
   "execution_count": 113,
   "id": "3f2ce195-b3d9-44ec-9cee-4c0d08050010",
   "metadata": {},
   "outputs": [
    {
     "name": "stdout",
     "output_type": "stream",
     "text": [
      "Nitrogen (mg/kg)        0\n",
      "Phosphorus (mg/kg)      0\n",
      "Potassium (mg/kg)       0\n",
      "Soil Moisture (in %)    0\n",
      "Temperature (in °C)     0\n",
      "Humidity (in %)         0\n",
      "Farming_Method          0\n",
      "Label                   0\n",
      "dtype: int64\n",
      "   Nitrogen (mg/kg)  Phosphorus (mg/kg)  Potassium (mg/kg)  \\\n",
      "0                58                  81                162   \n",
      "1                58                  81                162   \n",
      "2                38                  54                108   \n",
      "3                39                  54                109   \n",
      "4                38                  54                108   \n",
      "\n",
      "   Soil Moisture (in %)  Temperature (in °C)  Humidity (in %)  Farming_Method  \\\n",
      "0                  51.0                 27.9             75.9               1   \n",
      "1                  51.0                 27.9             73.6               1   \n",
      "2                  54.8                 27.9             75.4              -1   \n",
      "3                  55.6                 27.9             75.2              -1   \n",
      "4                  54.7                 27.9             75.4              -1   \n",
      "\n",
      "   Label  \n",
      "0      0  \n",
      "1      0  \n",
      "2      0  \n",
      "3      0  \n",
      "4      0  \n"
     ]
    }
   ],
   "source": [
    "# ✅ 1. Rename columns (remove newlines)\n",
    "df.columns = df.columns.str.replace(\"\\n\", \" \", regex=True)\n",
    "\n",
    "# ✅ 2. Fill missing values in Farming_Method\n",
    "df['Farming_Method'] = df['Farming_Method'].fillna(-1).astype(int)\n",
    "\n",
    "# ✅ 3. Check if there are still missing values\n",
    "print(df.isnull().sum())  # Should show 0 missing values\n",
    "\n",
    "# ✅ 4. Check cleaned data\n",
    "print(df.head())\n"
   ]
  },
  {
   "cell_type": "code",
   "execution_count": 114,
   "id": "24363a83-2b77-4b8d-a8b9-4ae43cad746b",
   "metadata": {},
   "outputs": [
    {
     "name": "stdout",
     "output_type": "stream",
     "text": [
      "Training Set: (70, 7) (70,)\n",
      "Testing Set: (18, 7) (18,)\n"
     ]
    }
   ],
   "source": [
    "from sklearn.model_selection import train_test_split\n",
    "\n",
    "# Separate features and target variable\n",
    "X = df.drop(columns=['Label'])  # Features\n",
    "y = df['Label']  # Target\n",
    "\n",
    "# Split the dataset (80% training, 20% testing)\n",
    "X_train, X_test, y_train, y_test = train_test_split(X, y, test_size=0.2, random_state=42, stratify=y)\n",
    "\n",
    "# Print shape of datasets\n",
    "print(\"Training Set:\", X_train.shape, y_train.shape)\n",
    "print(\"Testing Set:\", X_test.shape, y_test.shape)\n"
   ]
  },
  {
   "cell_type": "code",
   "execution_count": 117,
   "id": "48a35ad3-b1e8-42dd-9858-6aacf1a4803f",
   "metadata": {},
   "outputs": [
    {
     "name": "stdout",
     "output_type": "stream",
     "text": [
      "XGBoost Improved Accuracy: 0.5\n",
      "Classification Report:\n",
      "               precision    recall  f1-score   support\n",
      "\n",
      "           0       0.50      0.56      0.53         9\n",
      "           1       0.50      0.44      0.47         9\n",
      "\n",
      "    accuracy                           0.50        18\n",
      "   macro avg       0.50      0.50      0.50        18\n",
      "weighted avg       0.50      0.50      0.50        18\n",
      "\n"
     ]
    },
    {
     "name": "stderr",
     "output_type": "stream",
     "text": [
      "C:\\Users\\rajd3\\AppData\\Local\\Programs\\Python\\Python312\\Lib\\site-packages\\xgboost\\core.py:158: UserWarning: [23:44:20] WARNING: C:\\buildkite-agent\\builds\\buildkite-windows-cpu-autoscaling-group-i-08cbc0333d8d4aae1-1\\xgboost\\xgboost-ci-windows\\src\\learner.cc:740: \n",
      "Parameters: { \"use_label_encoder\" } are not used.\n",
      "\n",
      "  warnings.warn(smsg, UserWarning)\n"
     ]
    }
   ],
   "source": [
    "from xgboost import XGBClassifier\n",
    "from sklearn.model_selection import GridSearchCV\n",
    "\n",
    "# Define XGBoost model with hyperparameter tuning\n",
    "xgb = XGBClassifier(use_label_encoder=False, eval_metric='mlogloss')\n",
    "\n",
    "# Hyperparameter tuning\n",
    "param_grid = {\n",
    "    'n_estimators': [100, 200, 300],\n",
    "    'max_depth': [3, 5, 7],\n",
    "    'learning_rate': [0.01, 0.1, 0.2],\n",
    "    'subsample': [0.7, 0.8, 0.9]\n",
    "}\n",
    "\n",
    "grid_search = GridSearchCV(xgb, param_grid, cv=3, scoring='accuracy', n_jobs=-1)\n",
    "grid_search.fit(X_train, y_train)\n",
    "\n",
    "# Best model\n",
    "best_xgb = grid_search.best_estimator_\n",
    "y_pred = best_xgb.predict(X_test)\n",
    "\n",
    "# Evaluate model\n",
    "accuracy = accuracy_score(y_test, y_pred)\n",
    "print(\"XGBoost Improved Accuracy:\", accuracy)\n",
    "print(\"Classification Report:\\n\", classification_report(y_test, y_pred))\n"
   ]
  },
  {
   "cell_type": "code",
   "execution_count": 118,
   "id": "3d74b412-2404-4eec-9d87-f0b4aba57239",
   "metadata": {},
   "outputs": [
    {
     "name": "stdout",
     "output_type": "stream",
     "text": [
      "XGBoost (With Scaling) Accuracy: 0.5\n"
     ]
    },
    {
     "name": "stderr",
     "output_type": "stream",
     "text": [
      "C:\\Users\\rajd3\\AppData\\Local\\Programs\\Python\\Python312\\Lib\\site-packages\\xgboost\\core.py:158: UserWarning: [23:44:50] WARNING: C:\\buildkite-agent\\builds\\buildkite-windows-cpu-autoscaling-group-i-08cbc0333d8d4aae1-1\\xgboost\\xgboost-ci-windows\\src\\learner.cc:740: \n",
      "Parameters: { \"use_label_encoder\" } are not used.\n",
      "\n",
      "  warnings.warn(smsg, UserWarning)\n"
     ]
    }
   ],
   "source": [
    "from sklearn.preprocessing import StandardScaler\n",
    "\n",
    "scaler = StandardScaler()\n",
    "X_train_scaled = scaler.fit_transform(X_train)\n",
    "X_test_scaled = scaler.transform(X_test)\n",
    "\n",
    "# Train XGBoost again with scaled data\n",
    "best_xgb.fit(X_train_scaled, y_train)\n",
    "y_pred = best_xgb.predict(X_test_scaled)\n",
    "\n",
    "accuracy = accuracy_score(y_test, y_pred)\n",
    "print(\"XGBoost (With Scaling) Accuracy:\", accuracy)\n"
   ]
  },
  {
   "cell_type": "code",
   "execution_count": 119,
   "id": "f21711cf-1b51-4168-94a4-f627322b73db",
   "metadata": {},
   "outputs": [
    {
     "data": {
      "image/png": "[encoded data removed]",
      "text/plain": [
       "<Figure size 640x480 with 1 Axes>"
      ]
     },
     "metadata": {},
     "output_type": "display_data"
    }
   ],
   "source": [
    "import matplotlib.pyplot as plt\n",
    "import pandas as pd\n",
    "\n",
    "# Get feature importance\n",
    "feature_importance = pd.Series(best_xgb.feature_importances_, index=X.columns)\n",
    "feature_importance.sort_values(ascending=False).plot(kind='bar', title='Feature Importance')\n",
    "plt.show()\n"
   ]
  },
  {
   "cell_type": "code",
   "execution_count": 120,
   "id": "26f98f3b-7049-4240-96af-965478e23ade",
   "metadata": {},
   "outputs": [
    {
     "name": "stdout",
     "output_type": "stream",
     "text": [
      "XGBoost (With SMOTE) Accuracy: 0.5\n"
     ]
    },
    {
     "name": "stderr",
     "output_type": "stream",
     "text": [
      "C:\\Users\\rajd3\\AppData\\Local\\Programs\\Python\\Python312\\Lib\\site-packages\\xgboost\\core.py:158: UserWarning: [23:45:13] WARNING: C:\\buildkite-agent\\builds\\buildkite-windows-cpu-autoscaling-group-i-08cbc0333d8d4aae1-1\\xgboost\\xgboost-ci-windows\\src\\learner.cc:740: \n",
      "Parameters: { \"use_label_encoder\" } are not used.\n",
      "\n",
      "  warnings.warn(smsg, UserWarning)\n"
     ]
    }
   ],
   "source": [
    "from imblearn.over_sampling import SMOTE\n",
    "\n",
    "smote = SMOTE(sampling_strategy='auto', random_state=42)\n",
    "X_train_smote, y_train_smote = smote.fit_resample(X_train, y_train)\n",
    "\n",
    "best_xgb.fit(X_train_smote, y_train_smote)\n",
    "y_pred = best_xgb.predict(X_test)\n",
    "\n",
    "accuracy = accuracy_score(y_test, y_pred)\n",
    "print(\"XGBoost (With SMOTE) Accuracy:\", accuracy)\n"
   ]
  },
  {
   "cell_type": "code",
   "execution_count": 121,
   "id": "5c1f57d3-8331-49ac-8943-88e85853d33b",
   "metadata": {},
   "outputs": [],
   "source": [
    "from sklearn.utils import shuffle\n",
    "\n",
    "df = shuffle(df, random_state=42).reset_index(drop=True)\n"
   ]
  },
  {
   "cell_type": "code",
   "execution_count": 122,
   "id": "6a5b9260-bd16-4cbc-9bdc-17f6893edcb0",
   "metadata": {},
   "outputs": [
    {
     "name": "stdout",
     "output_type": "stream",
     "text": [
      "Best Parameters: {'learning_rate': 0.01, 'max_depth': 3, 'n_estimators': 50, 'subsample': 0.8}\n",
      "Improved Accuracy: 0.5555555555555556\n"
     ]
    }
   ],
   "source": [
    "from sklearn.model_selection import GridSearchCV\n",
    "from xgboost import XGBClassifier\n",
    "\n",
    "param_grid = {\n",
    "    'n_estimators': [50, 100, 200],  \n",
    "    'max_depth': [3, 5, 7],          \n",
    "    'learning_rate': [0.01, 0.1, 0.2],\n",
    "    'subsample': [0.8, 1.0]           \n",
    "}\n",
    "\n",
    "grid_search = GridSearchCV(XGBClassifier(), param_grid, cv=5, scoring='accuracy', n_jobs=-1)\n",
    "grid_search.fit(X_train, y_train)\n",
    "\n",
    "best_xgb = grid_search.best_estimator_\n",
    "y_pred = best_xgb.predict(X_test)\n",
    "\n",
    "accuracy = accuracy_score(y_test, y_pred)\n",
    "print(\"Best Parameters:\", grid_search.best_params_)\n",
    "print(\"Improved Accuracy:\", accuracy)\n"
   ]
  },
  {
   "cell_type": "code",
   "execution_count": 123,
   "id": "a7ead25d-eba0-4972-b454-b08d20e64620",
   "metadata": {},
   "outputs": [
    {
     "data": {
      "image/png": "[encoded data removed]",
      "text/plain": [
       "<Figure size 1000x600 with 2 Axes>"
      ]
     },
     "metadata": {},
     "output_type": "display_data"
    }
   ],
   "source": [
    "import seaborn as sns\n",
    "import matplotlib.pyplot as plt\n",
    "\n",
    "plt.figure(figsize=(10,6))\n",
    "sns.heatmap(df.corr(), annot=True, cmap='coolwarm')\n",
    "plt.show()\n"
   ]
  },
  {
   "cell_type": "code",
   "execution_count": 125,
   "id": "f3753f97-51ff-4b7d-9d9b-a5379124244c",
   "metadata": {},
   "outputs": [
    {
     "name": "stdout",
     "output_type": "stream",
     "text": [
      "Best Parameters: {'learning_rate': 0.01, 'max_depth': 3, 'n_estimators': 50, 'subsample': 0.8}\n",
      "Improved Accuracy: 0.5555555555555556\n"
     ]
    }
   ],
   "source": [
    "from sklearn.model_selection import GridSearchCV\n",
    "from xgboost import XGBClassifier\n",
    "\n",
    "param_grid = {\n",
    "    'n_estimators': [50, 100, 200],  \n",
    "    'max_depth': [3, 5, 7],          \n",
    "    'learning_rate': [0.01, 0.1, 0.2],\n",
    "    'subsample': [0.8, 1.0]           \n",
    "}\n",
    "\n",
    "grid_search = GridSearchCV(XGBClassifier(), param_grid, cv=5, scoring='accuracy', n_jobs=-1)\n",
    "grid_search.fit(X_train, y_train)\n",
    "\n",
    "best_xgb = grid_search.best_estimator_\n",
    "y_pred = best_xgb.predict(X_test)\n",
    "\n",
    "accuracy = accuracy_score(y_test, y_pred)\n",
    "print(\"Best Parameters:\", grid_search.best_params_)\n",
    "print(\"Improved Accuracy:\", accuracy)\n"
   ]
  },
  {
   "cell_type": "code",
   "execution_count": 126,
   "id": "e7ed1ea2-337b-4c07-9f2c-b744682e72e1",
   "metadata": {},
   "outputs": [],
   "source": [
    "from sklearn.preprocessing import StandardScaler\n",
    "\n",
    "scaler = StandardScaler()\n",
    "X_train_scaled = scaler.fit_transform(X_train)\n",
    "X_test_scaled = scaler.transform(X_test)\n"
   ]
  },
  {
   "cell_type": "code",
   "execution_count": 127,
   "id": "7c7af522-775b-4057-8b14-0dd97ec15151",
   "metadata": {},
   "outputs": [
    {
     "name": "stdout",
     "output_type": "stream",
     "text": [
      "Updated Accuracy: 0.5555555555555556\n"
     ]
    }
   ],
   "source": [
    "best_xgb.set_params(n_estimators=75)  # Try increasing to 75\n",
    "best_xgb.fit(X_train, y_train)\n",
    "y_pred = best_xgb.predict(X_test)\n",
    "\n",
    "accuracy = accuracy_score(y_test, y_pred)\n",
    "print(\"Updated Accuracy:\", accuracy)\n"
   ]
  },
  {
   "cell_type": "code",
   "execution_count": 128,
   "id": "56988581-3822-4df1-9e8a-4489a45734e0",
   "metadata": {},
   "outputs": [
    {
     "name": "stdout",
     "output_type": "stream",
     "text": [
      "F1-score: 0.5555555555555556\n"
     ]
    }
   ],
   "source": [
    "from sklearn.metrics import f1_score\n",
    "print(\"F1-score:\", f1_score(y_test, y_pred))\n"
   ]
  },
  {
   "cell_type": "code",
   "execution_count": 131,
   "id": "c481203d-8bcf-48bf-bb8d-46e06c0d38db",
   "metadata": {},
   "outputs": [
    {
     "name": "stdout",
     "output_type": "stream",
     "text": [
      "Predicted Crop: Rice\n"
     ]
    }
   ],
   "source": [
    "import numpy as np\n",
    "\n",
    "# Define the input features for prediction\n",
    "test_sample = np.array([[58, 81, 162, 51, 27.9, 75.9, 4]])  # 'Terrace' is mapped to 4\n",
    "\n",
    "# Predict the crop\n",
    "predicted_crop = best_xgb.predict(test_sample)\n",
    "\n",
    "# Map back to crop names\n",
    "crop_mapping = {0: 'Rice', 1: 'Maize'}\n",
    "predicted_label = crop_mapping[predicted_crop[0]]\n",
    "\n",
    "print(\"Predicted Crop:\", predicted_label)\n"
   ]
  },
  {
   "cell_type": "code",
   "execution_count": null,
   "id": "9bc874ef-3fda-408c-b45d-92b4ecfde8fc",
   "metadata": {},
   "outputs": [],
   "source": []
  }
 ],
 "metadata": {
  "kernelspec": {
   "display_name": "Python 3 (ipykernel)",
   "language": "python",
   "name": "python3"
  },
  "language_info": {
   "codemirror_mode": {
    "name": "ipython",
    "version": 3
   },
   "file_extension": ".py",
   "mimetype": "text/x-python",
   "name": "python",
   "nbconvert_exporter": "python",
   "pygments_lexer": "ipython3",
   "version": "3.12.6"
  }
 },
 "nbformat": 4,
 "nbformat_minor": 5
}
